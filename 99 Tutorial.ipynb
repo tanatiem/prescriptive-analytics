{
 "cells": [
  {
   "cell_type": "markdown",
   "id": "60e848fa-0df6-425d-8964-bcb004961b58",
   "metadata": {},
   "source": [
    "# PuLP Tutorial"
   ]
  },
  {
   "cell_type": "code",
   "execution_count": 5,
   "id": "21f83865-5b15-4a01-9613-f9c9139fd8b6",
   "metadata": {},
   "outputs": [],
   "source": [
    "import numpy as np\n",
    "import pandas as pd\n",
    "import matplotlib.pyplot as plt\n",
    "import seaborn as sns\n",
    "import pulp"
   ]
  },
  {
   "cell_type": "code",
   "execution_count": 4,
   "id": "82910252-c6cb-4c1d-a095-b1d159b5c8de",
   "metadata": {},
   "outputs": [],
   "source": [
    "n_warehouses = 2\n",
    "n_customers = 4\n",
    "\n",
    "# Cost Matrix\n",
    "cost_matrix = np.array([\n",
    "    [1, 3, 0.5, 4],\n",
    "    [2.5, 5, 1.5, 2.5]\n",
    "])\n",
    "# Demand Matrix\n",
    "cust_demands = np.array([35000, 22000, 18000, 30000])\n",
    "\n",
    "# Supply Matrix\n",
    "warehouse_supply = np.array([60000, 80000])"
   ]
  },
  {
   "cell_type": "code",
   "execution_count": 6,
   "id": "fd8b72fb-2a54-497a-ac2b-4851f953971f",
   "metadata": {},
   "outputs": [],
   "source": [
    "model = pulp.LpProblem(\"Supply-Demand-Problem\", pulp.LpMinimize)"
   ]
  },
  {
   "cell_type": "code",
   "execution_count": 8,
   "id": "be52505e-763d-483b-afb7-5b244ce00e05",
   "metadata": {},
   "outputs": [
    {
     "data": {
      "text/plain": [
       "['11', '12', '13', '14', '21', '22', '23', '24']"
      ]
     },
     "execution_count": 8,
     "metadata": {},
     "output_type": "execute_result"
    }
   ],
   "source": [
    "# Decision variables\n",
    "var_names = [f\"{i}{j}\" for i in range(1, n_warehouses+1) for j in range(1, n_customers+1) ]\n",
    "var_names"
   ]
  },
  {
   "cell_type": "code",
   "execution_count": 9,
   "id": "cddf2472-a685-4298-b42f-cba85332d9ee",
   "metadata": {},
   "outputs": [
    {
     "name": "stdout",
     "output_type": "stream",
     "text": [
      "Decision Variable/Allocadtion Matrix: \n",
      "[[X_11 X_12 X_13 X_14]\n",
      " [X_21 X_22 X_23 X_24]]\n"
     ]
    }
   ],
   "source": [
    "decision_vars = pulp.LpVariable.matrix('X', var_names, cat='Integer', lowBound=0)\n",
    "allocation = np.array(decision_vars).reshape(2,4)\n",
    "print('Decision Variable/Allocadtion Matrix: ')\n",
    "print(allocation)"
   ]
  },
  {
   "cell_type": "code",
   "execution_count": 14,
   "id": "0446f5b9-5373-412e-8d82-f6c1297d8b32",
   "metadata": {},
   "outputs": [
    {
     "name": "stdout",
     "output_type": "stream",
     "text": [
      "X_11 + 3.0*X_12 + 0.5*X_13 + 4.0*X_14 + 2.5*X_21 + 5.0*X_22 + 1.5*X_23 + 2.5*X_24\n"
     ]
    }
   ],
   "source": [
    "obj_func = pulp.lpSum(allocation * cost_matrix)\n",
    "print(obj_func)"
   ]
  },
  {
   "cell_type": "code",
   "execution_count": 16,
   "id": "43f81f10-4597-4f08-b0b7-9d2129facee6",
   "metadata": {},
   "outputs": [
    {
     "name": "stdout",
     "output_type": "stream",
     "text": [
      "Supply-Demand-Problem:\n",
      "MINIMIZE\n",
      "1.0*X_11 + 3.0*X_12 + 0.5*X_13 + 4.0*X_14 + 2.5*X_21 + 5.0*X_22 + 1.5*X_23 + 2.5*X_24 + 0.0\n",
      "VARIABLES\n",
      "0 <= X_11 Integer\n",
      "0 <= X_12 Integer\n",
      "0 <= X_13 Integer\n",
      "0 <= X_14 Integer\n",
      "0 <= X_21 Integer\n",
      "0 <= X_22 Integer\n",
      "0 <= X_23 Integer\n",
      "0 <= X_24 Integer\n",
      "\n"
     ]
    }
   ],
   "source": [
    "model += obj_func\n",
    "print(model)"
   ]
  },
  {
   "cell_type": "code",
   "execution_count": 25,
   "id": "84437afb-092f-4621-a084-2b068f77418a",
   "metadata": {},
   "outputs": [
    {
     "name": "stdout",
     "output_type": "stream",
     "text": [
      "X_11 + X_12 + X_13 + X_14 <= 60000\n",
      "X_21 + X_22 + X_23 + X_24 <= 80000\n"
     ]
    }
   ],
   "source": [
    "# Supply constraints\n",
    "\n",
    "# for i in range(n_warehouses):\n",
    "for i in range(n_warehouses):\n",
    "    print(pulp.lpSum(allocation[i][j] for j in range(n_customers)) <= warehouse_supply[i])\n",
    "    model += pulp.lpSum(allocation[i][j] for j in range(n_customers)) <= warehouse_supply[i], f\"Supply Constraints {i}\"\n"
   ]
  },
  {
   "cell_type": "code",
   "execution_count": 28,
   "id": "2b647979-f292-4b00-b496-e52adcd571a3",
   "metadata": {},
   "outputs": [
    {
     "name": "stdout",
     "output_type": "stream",
     "text": [
      "X_11 + X_21 >= 35000\n",
      "X_12 + X_22 >= 22000\n",
      "X_13 + X_23 >= 18000\n",
      "X_14 + X_24 >= 30000\n"
     ]
    }
   ],
   "source": [
    "# Customer demand constraints\n",
    "\n",
    "for j in range(n_customers):\n",
    "    print(pulp.lpSum(allocation[i][j] for i in range(n_warehouses)) >= cust_demands[j])\n",
    "    model += pulp.lpSum(allocation[i][j] for i in range(n_warehouses)) >= cust_demands[i], f\"Demand Constraints {j}\""
   ]
  },
  {
   "cell_type": "code",
   "execution_count": 29,
   "id": "6820b197-0f33-46e7-be9b-514508ec8278",
   "metadata": {},
   "outputs": [
    {
     "data": {
      "text/plain": [
       "Supply-Demand-Problem:\n",
       "MINIMIZE\n",
       "1.0*X_11 + 3.0*X_12 + 0.5*X_13 + 4.0*X_14 + 2.5*X_21 + 5.0*X_22 + 1.5*X_23 + 2.5*X_24 + 0.0\n",
       "SUBJECT TO\n",
       "Supply_Constraints_0: X_11 + X_12 + X_13 + X_14 <= 60000\n",
       "\n",
       "Supply_Constraints_1: X_21 + X_22 + X_23 + X_24 <= 80000\n",
       "\n",
       "Demand_Constraints_0: X_11 + X_21 >= 22000\n",
       "\n",
       "Demand_Constraints_1: X_12 + X_22 >= 22000\n",
       "\n",
       "Demand_Constraints_2: X_13 + X_23 >= 22000\n",
       "\n",
       "Demand_Constraints_3: X_14 + X_24 >= 22000\n",
       "\n",
       "VARIABLES\n",
       "0 <= X_11 Integer\n",
       "0 <= X_12 Integer\n",
       "0 <= X_13 Integer\n",
       "0 <= X_14 Integer\n",
       "0 <= X_21 Integer\n",
       "0 <= X_22 Integer\n",
       "0 <= X_23 Integer\n",
       "0 <= X_24 Integer"
      ]
     },
     "execution_count": 29,
     "metadata": {},
     "output_type": "execute_result"
    }
   ],
   "source": [
    "model"
   ]
  },
  {
   "cell_type": "code",
   "execution_count": 30,
   "id": "21ecec68-75ac-49cb-a59a-8d7545dd2791",
   "metadata": {},
   "outputs": [
    {
     "data": {
      "text/plain": [
       "[X_11, X_12, X_13, X_14, X_21, X_22, X_23, X_24]"
      ]
     },
     "execution_count": 30,
     "metadata": {},
     "output_type": "execute_result"
    }
   ],
   "source": [
    "model.writeLP('Supply_demand_prob.lp')"
   ]
  },
  {
   "cell_type": "code",
   "execution_count": 35,
   "id": "4b83bfad-29da-4792-9439-7190cbf8ac69",
   "metadata": {},
   "outputs": [
    {
     "name": "stdout",
     "output_type": "stream",
     "text": [
      "Optimal\n"
     ]
    }
   ],
   "source": [
    "# model.solve(pulp.PULP_CBC_CMD())\n",
    "model.solve()\n",
    "status = pulp.LpStatus[model.status]\n",
    "print(status)"
   ]
  },
  {
   "cell_type": "code",
   "execution_count": 36,
   "id": "25f64aee-7106-4bde-a607-0bef4baec765",
   "metadata": {},
   "outputs": [
    {
     "data": {
      "text/plain": [
       "160000.0"
      ]
     },
     "execution_count": 36,
     "metadata": {},
     "output_type": "execute_result"
    }
   ],
   "source": [
    "model.objective.value()"
   ]
  },
  {
   "cell_type": "code",
   "execution_count": 38,
   "id": "93aac7d1-b734-484f-816f-e9d2f5e88598",
   "metadata": {},
   "outputs": [
    {
     "name": "stdout",
     "output_type": "stream",
     "text": [
      "X_11 = 22000\n",
      "X_12 = 22000\n",
      "X_13 = 16000\n",
      "X_14 = 0\n",
      "X_21 = 0\n",
      "X_22 = 0\n",
      "X_23 = 6000\n",
      "X_24 = 22000\n"
     ]
    }
   ],
   "source": [
    "for v in model.variables():\n",
    "    try:\n",
    "        print(v.name, '=', v.value())\n",
    "    except:\n",
    "        print('error couldn\\'t find value')"
   ]
  },
  {
   "cell_type": "code",
   "execution_count": 39,
   "id": "389bc25e-97e7-4c41-950a-f6323edaafc1",
   "metadata": {},
   "outputs": [
    {
     "name": "stderr",
     "output_type": "stream",
     "text": [
      "ssssssssssssssssssssssssssssssssssssssssssssssssssssssssssssssssssssssssssssssssssssssssssssssssssssssssssssssssssssssssssssssssssssssssssssssssssssssssssssssssssssssssssssssssssssssssssssssssssssssssssssssssssssssssssssssssssssssssssssssssssssssssssssssssssssssssssssssssssssssss................"
     ]
    },
    {
     "name": "stdout",
     "output_type": "stream",
     "text": [
      "\t Test that logic put in place for deprecation handling of indexs works\n",
      "\t Testing 'indexs' param continues to work for LpVariable.dicts\n",
      "\t Testing 'indexs' param continues to work for LpVariable.matrix\n",
      "\t Testing 'indices' argument works in LpVariable.dicts\n",
      "\t Testing 'indices' param continues to work for LpVariable.matrix\n",
      "\t Testing invalid status\n",
      "\t Testing continuous LP solution - export dict\n",
      "\t Testing export dict for LP\n",
      "\t Testing export dict MIP\n",
      "\t Testing maximize continuous LP solution\n",
      "\t Testing continuous LP solution - export JSON\n",
      "\t Testing continuous LP solution - export solver dict\n",
      "\t Testing continuous LP solution - export solver JSON\n",
      "\t Testing reading MPS files - binary variable, no constraint names\n",
      "\t Testing reading MPS files - integer variable\n",
      "\t Testing reading MPS files - maximize\n"
     ]
    },
    {
     "name": "stderr",
     "output_type": "stream",
     "text": [
      "................"
     ]
    },
    {
     "name": "stdout",
     "output_type": "stream",
     "text": [
      "\t Testing invalid var names\n",
      "\t Testing makeDict general behavior\n",
      "\t Testing makeDict default value behavior\n",
      "\t Testing measuring optimization time\n",
      "\t Testing the availability of the function pulpTestAll\n",
      "\t Testing zero subtraction\n",
      "\t Testing inconsistent lp solution\n",
      "\t Testing continuous LP solution\n",
      "\t Testing maximize continuous LP solution\n",
      "\t Testing unbounded continuous LP solution\n",
      "\t Testing Long Names\n",
      "\t Testing repeated Names\n",
      "\t Testing zero constraint\n",
      "\t Testing zero objective\n",
      "\t Testing LpVariable (not LpAffineExpression) objective\n"
     ]
    },
    {
     "name": "stderr",
     "output_type": "stream",
     "text": [
      "........."
     ]
    },
    {
     "name": "stdout",
     "output_type": "stream",
     "text": [
      "\t Testing LpAffineExpression divide\n",
      "\t Testing MIP solution\n",
      "\t Testing MIP solution with floats in objective\n",
      "\t Testing Initial value in MIP solution\n",
      "\t Testing fixing value in MIP solution\n",
      "\t Testing MIP relaxation\n",
      "\t Testing feasibility problem (no objective)\n",
      "\t Testing an infeasible problem\n"
     ]
    },
    {
     "name": "stderr",
     "output_type": "stream",
     "text": [
      "..........."
     ]
    },
    {
     "name": "stdout",
     "output_type": "stream",
     "text": [
      "\t Testing an integer infeasible problem\n",
      "\t Testing another integer infeasible problem\n",
      "\t Testing column based modelling\n",
      "\t Testing fractional constraints\n",
      "\t Testing elastic constraints (no change)\n",
      "\t Testing elastic constraints (freebound)\n",
      "\t Testing elastic constraints (penalty unchanged)\n"
     ]
    },
    {
     "name": "stderr",
     "output_type": "stream",
     "text": [
      "....sssssssssssssssssssssssssssssssssssssssssssssssssssssssssssssssssssssssssssssssssssssssssssss"
     ]
    },
    {
     "name": "stdout",
     "output_type": "stream",
     "text": [
      "\t Testing elastic constraints (penalty unbounded)\n",
      "\t Testing timeLimit argument\n"
     ]
    },
    {
     "name": "stderr",
     "output_type": "stream",
     "text": [
      "sssssssssssssssssssssssssssssssssssssssssssssssssssssssssssssssssssssssssssssssssssssssssssssssssssssssssssssssssssssssssssssssssssssssssssssssssssssssssssssssssssssssssssssssssssssssssssssssssssssssssssssssssssssssssssssssssssssssssssssssssssssssssssssssssssssssssssssssssssssssssssssssssssssssssssssssssssssssssssssssssssssssssssssssssssssssssssssssssssssssssssssssssssssssssssssssssssssssssssssssssssssssssss\n",
      "----------------------------------------------------------------------\n",
      "Ran 840 tests in 2.031s\n",
      "\n",
      "OK (skipped=784)\n"
     ]
    }
   ],
   "source": [
    "pulp.pulpTestAll()"
   ]
  },
  {
   "cell_type": "code",
   "execution_count": null,
   "id": "7c33e27d-a099-4a6a-8785-253a61a8bf14",
   "metadata": {},
   "outputs": [],
   "source": []
  },
  {
   "cell_type": "code",
   "execution_count": 40,
   "id": "058d6fb7-b299-4fc3-a044-597251add152",
   "metadata": {},
   "outputs": [
    {
     "data": {
      "text/plain": [
       "['GLPK_CMD']"
      ]
     },
     "execution_count": 40,
     "metadata": {},
     "output_type": "execute_result"
    }
   ],
   "source": [
    "pulp.listSolvers(onlyAvailable=True)"
   ]
  },
  {
   "cell_type": "code",
   "execution_count": null,
   "id": "0d828b41-d9ba-4a7a-861a-644fe65aee17",
   "metadata": {},
   "outputs": [],
   "source": []
  },
  {
   "cell_type": "code",
   "execution_count": null,
   "id": "9bc32c6b-eb51-411a-8902-ab9f73e122b2",
   "metadata": {},
   "outputs": [],
   "source": []
  },
  {
   "cell_type": "markdown",
   "id": "e1cec3ba-a56d-46d5-8e99-2e1c05fa533f",
   "metadata": {},
   "source": [
    "# Scipy Tutorial"
   ]
  },
  {
   "cell_type": "markdown",
   "id": "fed89f81-6217-4c53-b9d6-47411ccce779",
   "metadata": {},
   "source": [
    "## Minimize"
   ]
  },
  {
   "cell_type": "markdown",
   "id": "661d370f-43d4-4ef1-9e9a-bd11ca46c17e",
   "metadata": {},
   "source": [
    "$ min z = 10x_1 + 15x_2 + 25x_3\\\\\n",
    "s.t.\\\\\n",
    "1x_1 + 1x_2 + 1x_3 \\geq 1000\\\\\n",
    "1x_1 - 2x_2 + 0x_3 \\geq 0\\\\\n",
    "0x_1 + 0x_2 + 1x_3 \\geq 340\\\\\n",
    "x_1, x_2, x_3 \\geq 0\n",
    "$"
   ]
  },
  {
   "cell_type": "code",
   "execution_count": 46,
   "id": "8d092c79-94c1-4fd3-9c47-e10e9e399464",
   "metadata": {},
   "outputs": [
    {
     "name": "stdout",
     "output_type": "stream",
     "text": [
      "Optimal value: 15100.0 \n",
      "x values: [6.59999996e+02 1.00009441e-07 3.40000000e+02] \n",
      "Number of iterations performed: 7 \n",
      "Status: Optimization terminated successfully.\n"
     ]
    }
   ],
   "source": [
    "import numpy as np\n",
    "from scipy.optimize import linprog\n",
    "\n",
    "# Set the inequality constraints matrix\n",
    "# Note: the inequality constraints must be in the form of <=\n",
    "\n",
    "A = np.array([[-1, -1, -1], \n",
    "              [-1, 2, 0],\n",
    "              [0, 0, -1],\n",
    "              [-1, 0, 0],\n",
    "              [0, -1, 0],\n",
    "              [0, 0, -1]])\n",
    "\n",
    "# Set the inequality constraints vector\n",
    "b = np.array([-1000, 0, -340, 0, 0, 0])\n",
    "\n",
    "# Set the coefficients of the linear objective function vector\n",
    "c = np.array([10, 15, 25])\n",
    "\n",
    "# Solve linear programming problem\n",
    "res = linprog(c, A_ub=A, b_ub=b)\n",
    "\n",
    "# Print results\n",
    "print('Optimal value:', round(res.fun, ndigits=2),\n",
    "      '\\nx values:', res.x,\n",
    "      '\\nNumber of iterations performed:', res.nit,\n",
    "      '\\nStatus:', res.message)"
   ]
  },
  {
   "cell_type": "markdown",
   "id": "5242c7ad-5568-422e-946a-23433fea4ff8",
   "metadata": {},
   "source": [
    "## Maximize"
   ]
  },
  {
   "cell_type": "markdown",
   "id": "30365fc3-4971-4e00-a2a7-1e7c05f934fd",
   "metadata": {},
   "source": [
    "$max \\quad  z = 5x_1 + 7x_2\\\\\n",
    "s.t.\\\\\n",
    "1x_1 + 0x_2 \\leq 16\\\\\n",
    "2x_1 + 3x_2 \\leq 19\\\\\n",
    "1x_1 + 1x_2 \\leq 8\\\\\n",
    "x_1, x_2 \\geq 0\n",
    "$"
   ]
  },
  {
   "cell_type": "code",
   "execution_count": 48,
   "id": "a32226bf-90df-4a06-9e8b-986eb638a7ff",
   "metadata": {},
   "outputs": [
    {
     "name": "stdout",
     "output_type": "stream",
     "text": [
      "Optimal value: -46.0 \n",
      "x values: [5. 3.] \n",
      "Number of iterations performed: 5 \n",
      "Status: Optimization terminated successfully.\n"
     ]
    }
   ],
   "source": [
    "A = np.array([\n",
    "    [1, 0],\n",
    "    [2, 3],\n",
    "    [1, 1],\n",
    "    [-1, 0],\n",
    "    [0, -1]\n",
    "])\n",
    "b = np.array([16, 19, 8, 0, 0])\n",
    "c = np.array([-5, -7])\n",
    "res = linprog(c, A_ub=A, b_ub=b)\n",
    "\n",
    "\n",
    "print('Optimal value:', round(res.fun, ndigits=2),\n",
    "      '\\nx values:', res.x,\n",
    "      '\\nNumber of iterations performed:', res.nit,\n",
    "      '\\nStatus:', res.message)"
   ]
  },
  {
   "cell_type": "markdown",
   "id": "b5bbc5c9-5d7f-4e2d-a77f-2e7f8d2c143c",
   "metadata": {},
   "source": [
    "## Implement the above example from PuLP\n",
    "\n",
    "* Can't solve integer programming"
   ]
  },
  {
   "cell_type": "markdown",
   "id": "34dd9e5a-01c1-42ac-85db-bd92ff28a2a6",
   "metadata": {},
   "source": [
    "$Minimize \\quad \\sum_{1=1}^{2} \\sum_{j=1}^{4} c_{ij} x_{ij}\\\\\n",
    "s.t.\\\\\n",
    "\\sum_{i=1}^{2} x_{i1} \\geq 35000\\\\\n",
    "\\sum_{i=1}^{2} x_{i2} \\geq 22000\\\\\n",
    "\\sum_{i=1}^{2} x_{i3} \\geq 18000\\\\\n",
    "\\sum_{i=1}^{2} x_{i4} \\geq 30000\\\\\n",
    "\\\\\n",
    "\\sum_{j=1}^{4} x_{1j} \\leq 60000\\\\\n",
    "\\sum_{j=1}^{4} x_{2j} \\leq 80000\\\\\n",
    "\\\\\n",
    "x_{ij} \\geq 0\n",
    "$"
   ]
  },
  {
   "cell_type": "code",
   "execution_count": 50,
   "id": "12348803-07a7-4ac0-a322-5487734ab66d",
   "metadata": {},
   "outputs": [
    {
     "name": "stdout",
     "output_type": "stream",
     "text": [
      "Optimal value: 105000.0 \n",
      "x values: [16385.65740888  9728.93801128  8805.88121169 13206.81319763\n",
      " 18614.34252826 12271.06194166  9194.11874856 16793.18673622] \n",
      "Number of iterations performed: 7 \n",
      "Status: Optimization terminated successfully.\n"
     ]
    }
   ],
   "source": [
    "A = np.array([\n",
    "    [-1, 0, 0, 0,-1, 0, 0, 0],\n",
    "    [ 0,-1, 0, 0, 0,-1, 0, 0],\n",
    "    [ 0, 0,-1, 0, 0, 0,-1, 0],\n",
    "    [ 0, 0, 0,-1, 0, 0, 0,-1],\n",
    "    [ 1, 1, 1, 1, 0, 0, 0, 0],\n",
    "    [ 0, 0, 0, 0, 1, 1, 1, 1],\n",
    "    [-1, 0, 0, 0, 0, 0, 0, 0],\n",
    "    [ 0,-1, 0, 0, 0, 0, 0, 0],\n",
    "    [ 0, 0,-1, 0, 0, 0, 0, 0],\n",
    "    [ 0, 0, 0,-1, 0, 0, 0, 0],\n",
    "    [ 0, 0, 0, 0,-1, 0, 0, 0],\n",
    "    [ 0, 0, 0, 0, 0,-1, 0, 0],\n",
    "    [ 0, 0, 0, 0, 0, 0,-1, 0],\n",
    "    [ 0, 0, 0, 0, 0, 0, 0,-1],\n",
    "])\n",
    "b = np.array([-35000, -22000, -18000, -30000, 60000, 80000,\n",
    "              0, 0, 0, 0, 0, 0, 0, 0])\n",
    "c = np.array([1, 1, 1, 1, 1, 1, 1, 1])\n",
    "\n",
    "res = linprog(c, A_ub=A, b_ub=b)\n",
    "\n",
    "# Print results\n",
    "print('Optimal value:', round(res.fun, ndigits=2),\n",
    "      '\\nx values:', res.x,\n",
    "      '\\nNumber of iterations performed:', res.nit,\n",
    "      '\\nStatus:', res.message)"
   ]
  },
  {
   "cell_type": "code",
   "execution_count": 58,
   "id": "15fda8ab-c57e-457a-985d-22137139d38b",
   "metadata": {},
   "outputs": [
    {
     "data": {
      "text/plain": [
       "array([[ 70,  96, 133]])"
      ]
     },
     "execution_count": 58,
     "metadata": {},
     "output_type": "execute_result"
    }
   ],
   "source": [
    "\n",
    "labor_cost_rates = np.array([[11, 15]])\n",
    "\n",
    "labor_hours = np.array([[5, 1], [6, 2], [8, 3]])\n",
    "\n",
    "labor_cost_rates @ labor_hours.T"
   ]
  },
  {
   "cell_type": "code",
   "execution_count": 60,
   "id": "76d533c9-70aa-4b24-a882-591d6a5316e6",
   "metadata": {},
   "outputs": [
    {
     "data": {
      "text/plain": [
       "array([[ 80, 129, 152]])"
      ]
     },
     "execution_count": 60,
     "metadata": {},
     "output_type": "execute_result"
    }
   ],
   "source": [
    "cost_parts = np.array([[150, 225, 275]])\n",
    "selling_prices = np.array([[300, 450, 560]])\n",
    "\n",
    "margins = selling_prices - cost_parts - labor_cost_rates @ labor_hours.T\n",
    "margins"
   ]
  },
  {
   "cell_type": "markdown",
   "id": "9441d2d5-abb8-41c2-b2cf-0d6f123d9da7",
   "metadata": {},
   "source": [
    "$ Maximize \\sum_{i=1}^{3} m_i x_i\\\\\n",
    "s.t.\\\\\n",
    "x_1 \\leq 600\\\\\n",
    "x_2 \\leq 1200\\\\\n",
    "x_3 \\leq 50\\\\\n",
    "5x_1 + 6x_2 + 8x_3 \\leq 10000\\\\\n",
    "1x_1 + 2x_2 + 3x_3 \\leq 3000\\\\\n",
    "x_1, x_2, x_3 \\geq 0\n",
    "$"
   ]
  },
  {
   "cell_type": "code",
   "execution_count": 69,
   "id": "5355c028-28f9-446e-a65a-4f5d9dda8df7",
   "metadata": {},
   "outputs": [
    {
     "name": "stdout",
     "output_type": "stream",
     "text": [
      "Optimal value: 200285.71 \n",
      "x values: [ 514.28571289 1199.99999645   28.57142846] \n",
      "Number of iterations performed: 7 \n",
      "Status: Optimization terminated successfully.\n"
     ]
    }
   ],
   "source": [
    "A = np.array([\n",
    "    [ 1, 0, 0],\n",
    "    [ 0, 1, 0],\n",
    "    [ 0, 0, 1],\n",
    "    [ 5, 6, 8],\n",
    "    [ 1, 2, 3],\n",
    "    [-1, 0, 0],\n",
    "    [ 0,-1, 0],\n",
    "    [ 0, 0, -1]\n",
    "])\n",
    "b = np.array([600, 1200, 50, 10000, 3000, 0, 0, 0])\n",
    "c = np.array([-80, -129, -152])\n",
    "\n",
    "res = linprog(c, A_ub=A, b_ub=b)\n",
    "print('Optimal value:', round(-res.fun, ndigits=2),\n",
    "      '\\nx values:', res.x,\n",
    "      '\\nNumber of iterations performed:', res.nit,\n",
    "      '\\nStatus:', res.message)"
   ]
  },
  {
   "cell_type": "code",
   "execution_count": 130,
   "id": "08465357-7a60-4cc6-b0c1-271361f3507a",
   "metadata": {},
   "outputs": [
    {
     "name": "stdout",
     "output_type": "stream",
     "text": [
      "80*X_1 + 129*X_2 + 152*X_3\n"
     ]
    }
   ],
   "source": [
    "from pulp import *\n",
    "\n",
    "\n",
    "\n",
    "sku = ['Basic', 'XP', 'VXP']\n",
    "n_sku = 3       \n",
    "margins = np.array([80, 129, 152])\n",
    "       \n",
    "\n",
    "# margins = {\n",
    "#     'Basic' : 80,\n",
    "#     'XP' : 129,\n",
    "#     'VXP' : 152\n",
    "# }\n",
    "\n",
    "prob = LpProblem('ProductMix', LpMaximize)\n",
    "decision_vars = LpVariable.matrix('X', range(1, len(sku)+1), \n",
    "                                  cat='Continuous',#'Integer',\n",
    "                                  lowBound=0)\n",
    "obj_func = lpSum(decision_vars * margins)\n",
    "prob += obj_func\n",
    "print(obj_func)"
   ]
  },
  {
   "cell_type": "code",
   "execution_count": 131,
   "id": "30a9874c-8ac3-44dd-b4a8-6f7c43f4f1ab",
   "metadata": {},
   "outputs": [
    {
     "name": "stdout",
     "output_type": "stream",
     "text": [
      "X_1 <= 600\n",
      "X_2 <= 1200\n",
      "X_3 <= 50\n"
     ]
    },
    {
     "data": {
      "text/plain": [
       "ProductMix:\n",
       "MAXIMIZE\n",
       "80*X_1 + 129*X_2 + 152*X_3 + 0\n",
       "SUBJECT TO\n",
       "SKU_Constraints_1: X_1 <= 600\n",
       "\n",
       "SKU_Constraints_2: X_2 <= 1200\n",
       "\n",
       "SKU_Constraints_3: X_3 <= 50\n",
       "\n",
       "VARIABLES\n",
       "X_1 Continuous\n",
       "X_2 Continuous\n",
       "X_3 Continuous"
      ]
     },
     "execution_count": 131,
     "metadata": {},
     "output_type": "execute_result"
    }
   ],
   "source": [
    "# Product constraints\n",
    "sku_limits = np.array([600, 1200, 50])\n",
    "for i in range(n_sku):\n",
    "    print(decision_vars[i] <= sku_limits[i])\n",
    "    prob += (decision_vars[i] <= sku_limits[i]), f'SKU Constraints {i+1}'\n",
    "prob"
   ]
  },
  {
   "cell_type": "code",
   "execution_count": 134,
   "id": "4c83a8dc-4298-4ecc-a327-a2a0066b0df1",
   "metadata": {},
   "outputs": [
    {
     "name": "stdout",
     "output_type": "stream",
     "text": [
      "5*X_1 + 6*X_2 + 8*X_3 <= 10000\n",
      "X_1 + 2*X_2 + 3*X_3 <= 3000\n"
     ]
    },
    {
     "data": {
      "text/plain": [
       "ProductMix:\n",
       "MAXIMIZE\n",
       "80*X_1 + 129*X_2 + 152*X_3 + 0\n",
       "SUBJECT TO\n",
       "SKU_Constraints_1: X_1 <= 600\n",
       "\n",
       "SKU_Constraints_2: X_2 <= 1200\n",
       "\n",
       "SKU_Constraints_3: X_3 <= 50\n",
       "\n",
       "_C1: 5 X_1 + 6 X_2 + 8 X_3 <= 10000\n",
       "\n",
       "_C2: X_1 + 2 X_2 + 3 X_3 <= 3000\n",
       "\n",
       "VARIABLES\n",
       "X_1 Continuous\n",
       "X_2 Continuous\n",
       "X_3 Continuous"
      ]
     },
     "execution_count": 134,
     "metadata": {},
     "output_type": "execute_result"
    }
   ],
   "source": [
    "for i in range(len(labor_limits)):\n",
    "    print(lpSum(decision_vars * labor_cost_hrs[i]) <= labor_limits[i])\n",
    "    prob += lpSum(decision_vars * labor_cost_hrs[i]) <= labor_limits[i]\n",
    "prob    "
   ]
  },
  {
   "cell_type": "code",
   "execution_count": 136,
   "id": "4e095761-fa6b-4d8c-8741-aff24783cf52",
   "metadata": {},
   "outputs": [
    {
     "name": "stdout",
     "output_type": "stream",
     "text": [
      "Optimal\n",
      "Objective value: 200285.7328\n",
      "X_1 = 514.286\n",
      "X_2 = 1200.0\n",
      "X_3 = 28.5714\n"
     ]
    }
   ],
   "source": [
    "prob.solve()\n",
    "print(LpStatus[prob.status])\n",
    "print('Objective value:', prob.objective.value())\n",
    "for v in prob.variables():\n",
    "    print(v.name,'=', v.value())"
   ]
  }
 ],
 "metadata": {
  "kernelspec": {
   "display_name": "Python 3 (ipykernel)",
   "language": "python",
   "name": "python3"
  },
  "language_info": {
   "codemirror_mode": {
    "name": "ipython",
    "version": 3
   },
   "file_extension": ".py",
   "mimetype": "text/x-python",
   "name": "python",
   "nbconvert_exporter": "python",
   "pygments_lexer": "ipython3",
   "version": "3.9.12"
  }
 },
 "nbformat": 4,
 "nbformat_minor": 5
}
