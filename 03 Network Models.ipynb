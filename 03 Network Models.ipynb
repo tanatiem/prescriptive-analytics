{
 "cells": [
  {
   "cell_type": "markdown",
   "id": "fb788a6e-5389-4a81-846a-8cc54f0ed017",
   "metadata": {},
   "source": [
    "# Week 3 - Network Models"
   ]
  },
  {
   "cell_type": "code",
   "execution_count": 142,
   "id": "8ba1f6d4-0ade-4de7-8e16-111eaf705a40",
   "metadata": {},
   "outputs": [],
   "source": [
    "import numpy as np\n",
    "import pandas as pd\n",
    "from pulp import *"
   ]
  },
  {
   "cell_type": "markdown",
   "id": "a67a1c1c-5381-4823-85d6-3fc35af4173e",
   "metadata": {},
   "source": [
    "## 1) Transportation problem\n",
    "\n",
    "An automobile company manufactures cars in 3 plants and then ships them to 4 regions.   \n",
    "The plants can supply the amount listed in `capacity`.  \n",
    "The customer demands by region are listed in `demand`.  \n",
    "And the unit costs of shipping a car from each plant to each region are listed in `unit costs`.  \n",
    "The company wants to find the lowest-cost shipping plan for meeting the demands of the four regions without exceeding the capacities of the plants."
   ]
  },
  {
   "cell_type": "markdown",
   "id": "6fe25219-4b44-427d-be70-ce7333c281c3",
   "metadata": {},
   "source": [
    "### Input parameters"
   ]
  },
  {
   "cell_type": "code",
   "execution_count": 143,
   "id": "ab659b61-3eed-446e-9751-d114e074ecde",
   "metadata": {},
   "outputs": [
    {
     "name": "stdout",
     "output_type": "stream",
     "text": [
      "Capacity:\n",
      " {'Plant1': 450, 'Plant2': 600, 'Plant3': 500}\n",
      "Demand:\n",
      " {'Region1': 450, 'Region2': 200, 'Region3': 300, 'Region4': 300}\n"
     ]
    }
   ],
   "source": [
    "capacity = np.array([450, 600, 500])\n",
    "capacity = dict(zip(plants, capacity))\n",
    "print('Capacity:\\n', capacity)\n",
    "demand = np.array([450, 200, 300, 300])\n",
    "demand = dict(zip(regions, demand))\n",
    "print('Demand:\\n', demand)"
   ]
  },
  {
   "cell_type": "code",
   "execution_count": 144,
   "id": "edbaf267-03fb-47e9-ad3f-487b6525c005",
   "metadata": {},
   "outputs": [
    {
     "data": {
      "text/html": [
       "<div>\n",
       "<style scoped>\n",
       "    .dataframe tbody tr th:only-of-type {\n",
       "        vertical-align: middle;\n",
       "    }\n",
       "\n",
       "    .dataframe tbody tr th {\n",
       "        vertical-align: top;\n",
       "    }\n",
       "\n",
       "    .dataframe thead th {\n",
       "        text-align: right;\n",
       "    }\n",
       "</style>\n",
       "<table border=\"1\" class=\"dataframe\">\n",
       "  <thead>\n",
       "    <tr style=\"text-align: right;\">\n",
       "      <th></th>\n",
       "      <th>Region1</th>\n",
       "      <th>Region2</th>\n",
       "      <th>Region3</th>\n",
       "      <th>Region4</th>\n",
       "    </tr>\n",
       "  </thead>\n",
       "  <tbody>\n",
       "    <tr>\n",
       "      <th>Plant1</th>\n",
       "      <td>131</td>\n",
       "      <td>218</td>\n",
       "      <td>266</td>\n",
       "      <td>120</td>\n",
       "    </tr>\n",
       "    <tr>\n",
       "      <th>Plant2</th>\n",
       "      <td>250</td>\n",
       "      <td>116</td>\n",
       "      <td>263</td>\n",
       "      <td>278</td>\n",
       "    </tr>\n",
       "    <tr>\n",
       "      <th>Plant3</th>\n",
       "      <td>178</td>\n",
       "      <td>132</td>\n",
       "      <td>122</td>\n",
       "      <td>180</td>\n",
       "    </tr>\n",
       "  </tbody>\n",
       "</table>\n",
       "</div>"
      ],
      "text/plain": [
       "        Region1  Region2  Region3  Region4\n",
       "Plant1      131      218      266      120\n",
       "Plant2      250      116      263      278\n",
       "Plant3      178      132      122      180"
      ]
     },
     "execution_count": 144,
     "metadata": {},
     "output_type": "execute_result"
    }
   ],
   "source": [
    "# i - plants\n",
    "# j - regions\n",
    "unit_costs = np.array([\n",
    "    [131, 218, 266, 120],\n",
    "    [250, 116, 263, 278],\n",
    "    [178, 132, 122, 180]\n",
    "])\n",
    "plants = [ f\"Plant{i}\" for i in range(1,4) ]\n",
    "regions = [ f\"Region{j}\" for j in range(1,5) ]\n",
    "unit_costs = pd.DataFrame(unit_costs, index=plants, columns=regions)\n",
    "unit_costs"
   ]
  },
  {
   "cell_type": "markdown",
   "id": "6cdf80a3-fe91-42ab-8dd4-ae4f8bfd4302",
   "metadata": {},
   "source": [
    "### Problem formulation\n",
    "\n",
    "$\\text{Decision variables}\\\\\n",
    "x_{ij} = \\text{flow from i to j for i = 1,2,3 and j = 1,2,3,4}\n",
    "$\n",
    "\n",
    "$\\text{min}\\quad \\sum_{i=1}^3 \\sum_{j=1}^{4} c_{ij} x_{ij}\\\\\n",
    "\\text{subject to:}$\n",
    "\\begin{align*}\n",
    "\\sum_{j=1}^4 x_{ij} & \\leq b_i && \\text{for i = 1, 2, 3} && \\text{Capacity}\\\\\n",
    "\\sum_{i=1}^3 x_{ij} & \\geq d_j && \\text{for j = 1, 2, 3, 4} && \\text{Demand}\\\\\n",
    "x_{ij} & \\geq 0 && \\text{for i = 1, 2, 3 and j = 1, 2, 3, 4} && \\text{Nonnegativity}\n",
    "\\end{align*}"
   ]
  },
  {
   "cell_type": "markdown",
   "id": "ce91f362-1f9c-4a24-a3d2-3cd0df89f8e7",
   "metadata": {},
   "source": [
    "### Solve"
   ]
  },
  {
   "cell_type": "code",
   "execution_count": 145,
   "id": "4301c056-837d-44d3-a8f7-a55306bd4de8",
   "metadata": {},
   "outputs": [
    {
     "name": "stdout",
     "output_type": "stream",
     "text": [
      "Transportation:\n",
      "MINIMIZE\n",
      "131*x_11 + 218*x_12 + 266*x_13 + 120*x_14 + 250*x_21 + 116*x_22 + 263*x_23 + 278*x_24 + 178*x_31 + 132*x_32 + 122*x_33 + 180*x_34 + 0\n",
      "SUBJECT TO\n",
      "Capactiy_Plant1: x_11 + x_12 + x_13 + x_14 <= 450\n",
      "\n",
      "Capactiy_Plant2: x_21 + x_22 + x_23 + x_24 <= 600\n",
      "\n",
      "Capactiy_Plant3: x_31 + x_32 + x_33 + x_34 <= 500\n",
      "\n",
      "Demand_Region1: x_11 + x_21 + x_31 >= 450\n",
      "\n",
      "Demand_Region2: x_12 + x_22 + x_32 >= 200\n",
      "\n",
      "Demand_Region3: x_13 + x_23 + x_33 >= 300\n",
      "\n",
      "Demand_Region4: x_14 + x_24 + x_34 >= 300\n",
      "\n",
      "VARIABLES\n",
      "x_11 Continuous\n",
      "x_12 Continuous\n",
      "x_13 Continuous\n",
      "x_14 Continuous\n",
      "x_21 Continuous\n",
      "x_22 Continuous\n",
      "x_23 Continuous\n",
      "x_24 Continuous\n",
      "x_31 Continuous\n",
      "x_32 Continuous\n",
      "x_33 Continuous\n",
      "x_34 Continuous\n",
      "\n",
      "Status: Optimal\n",
      "Objective value: 176050.0\n"
     ]
    }
   ],
   "source": [
    "# Model creation\n",
    "model = LpProblem('Transportation', LpMinimize)\n",
    "\n",
    "# decision variables\n",
    "decision_vars = LpVariable.matrix('x', [f\"{i}{j}\" for i in range(1,4) for j in range(1,5)], lowBound=0)\n",
    "allocation = np.array(decision_vars).reshape(len(plants), len(regions))\n",
    "\n",
    "# objective function\n",
    "obj_func = lpSum(unit_costs.values * allocation)\n",
    "model += obj_func\n",
    "\n",
    "# for each plant, create capacity constraint\n",
    "for i, plant in enumerate(plants):\n",
    "    model += lpSum(allocation[i,:]) <= capacity[plant], f\"Capactiy {plant}\"\n",
    "    \n",
    "# for each region, create demand constraint\n",
    "for j, region in enumerate(regions):\n",
    "    model += lpSum(allocation[:,j]) >= demand[region], f\"Demand {region}\"\n",
    "\n",
    "print(model)\n",
    "\n",
    "# Solve Model\n",
    "model.solve()\n",
    "print(f\"Status: {LpStatus[model.status]}\")\n",
    "print(f\"Objective value: {model.objective.value()}\")"
   ]
  },
  {
   "cell_type": "markdown",
   "id": "4f44bc5d-f82a-44f6-840b-01f2cd158550",
   "metadata": {},
   "source": [
    "### Result"
   ]
  },
  {
   "cell_type": "code",
   "execution_count": 146,
   "id": "bb42458e-0eb5-4342-98ef-5e67f17169e5",
   "metadata": {},
   "outputs": [
    {
     "data": {
      "text/html": [
       "<div>\n",
       "<style scoped>\n",
       "    .dataframe tbody tr th:only-of-type {\n",
       "        vertical-align: middle;\n",
       "    }\n",
       "\n",
       "    .dataframe tbody tr th {\n",
       "        vertical-align: top;\n",
       "    }\n",
       "\n",
       "    .dataframe thead th {\n",
       "        text-align: right;\n",
       "    }\n",
       "</style>\n",
       "<table border=\"1\" class=\"dataframe\">\n",
       "  <thead>\n",
       "    <tr style=\"text-align: right;\">\n",
       "      <th></th>\n",
       "      <th>Region1</th>\n",
       "      <th>Region2</th>\n",
       "      <th>Region3</th>\n",
       "      <th>Region4</th>\n",
       "    </tr>\n",
       "  </thead>\n",
       "  <tbody>\n",
       "    <tr>\n",
       "      <th>Plant1</th>\n",
       "      <td>150.0</td>\n",
       "      <td>0.0</td>\n",
       "      <td>0.0</td>\n",
       "      <td>300.0</td>\n",
       "    </tr>\n",
       "    <tr>\n",
       "      <th>Plant2</th>\n",
       "      <td>100.0</td>\n",
       "      <td>200.0</td>\n",
       "      <td>0.0</td>\n",
       "      <td>0.0</td>\n",
       "    </tr>\n",
       "    <tr>\n",
       "      <th>Plant3</th>\n",
       "      <td>200.0</td>\n",
       "      <td>0.0</td>\n",
       "      <td>300.0</td>\n",
       "      <td>0.0</td>\n",
       "    </tr>\n",
       "  </tbody>\n",
       "</table>\n",
       "</div>"
      ],
      "text/plain": [
       "        Region1  Region2  Region3  Region4\n",
       "Plant1    150.0      0.0      0.0    300.0\n",
       "Plant2    100.0    200.0      0.0      0.0\n",
       "Plant3    200.0      0.0    300.0      0.0"
      ]
     },
     "execution_count": 146,
     "metadata": {},
     "output_type": "execute_result"
    }
   ],
   "source": [
    "result = np.array([ v.value() for v in model.variables()]).reshape(len(plants), len(regions))\n",
    "result = pd.DataFrame(result, index=plants, columns=regions)\n",
    "result"
   ]
  },
  {
   "cell_type": "code",
   "execution_count": 192,
   "id": "0e466080-7762-4f45-9e20-464ec19dcf27",
   "metadata": {},
   "outputs": [
    {
     "data": {
      "text/plain": [
       "NodeView(('Plant1', 'Plant2', 'Plant3', 'Region1', 'Region2', 'Region3', 'Region4'))"
      ]
     },
     "execution_count": 192,
     "metadata": {},
     "output_type": "execute_result"
    }
   ],
   "source": [
    "G.nodes()"
   ]
  },
  {
   "cell_type": "code",
   "execution_count": 191,
   "id": "b076de19-3bd4-4823-b417-6820df7ccec7",
   "metadata": {},
   "outputs": [
    {
     "data": {
      "image/png": "[encoded data removed]",
      "text/plain": [
       "<Figure size 432x288 with 1 Axes>"
      ]
     },
     "metadata": {},
     "output_type": "display_data"
    }
   ],
   "source": [
    "G = nx.DiGraph()\n",
    "G.add_nodes_from([(p, {'type': 0}) for p in plants])\n",
    "G.add_nodes_from([(r, {'type': 1}) for r in regions])\n",
    "\n",
    "df = result.rename_axis('origin').reset_index().melt(id_vars='origin', var_name='destination')\n",
    "G.add_edges_from([(r.origin, r.destination, {'weight': r.value})for i,r in df.iterrows()])\n",
    "\n",
    "pos = nx.multipartite_layout(G, subset_key='type')\n",
    "nx.draw_networkx(G, pos, with_labels=False)\n",
    "plt.show()"
   ]
  },
  {
   "cell_type": "code",
   "execution_count": 174,
   "id": "3ef110ed-0653-4dcb-baa2-f5b084b5947c",
   "metadata": {},
   "outputs": [
    {
     "data": {
      "text/plain": [
       "[('Plant1', 'Region1', {'weight': 150.0}),\n",
       " ('Plant2', 'Region1', {'weight': 100.0}),\n",
       " ('Plant3', 'Region1', {'weight': 200.0}),\n",
       " ('Plant1', 'Region2', {'weight': 0.0}),\n",
       " ('Plant2', 'Region2', {'weight': 200.0}),\n",
       " ('Plant3', 'Region2', {'weight': 0.0}),\n",
       " ('Plant1', 'Region3', {'weight': 0.0}),\n",
       " ('Plant2', 'Region3', {'weight': 0.0}),\n",
       " ('Plant3', 'Region3', {'weight': 300.0}),\n",
       " ('Plant1', 'Region4', {'weight': 300.0}),\n",
       " ('Plant2', 'Region4', {'weight': 0.0}),\n",
       " ('Plant3', 'Region4', {'weight': 0.0})]"
      ]
     },
     "execution_count": 174,
     "metadata": {},
     "output_type": "execute_result"
    }
   ],
   "source": [
    "df = result.rename_axis('origin').reset_index().melt(id_vars='origin', var_name='destination')\n",
    "[ (r.origin, r.destination, {'weight': r.value})for i,r in df.iterrows() ]\n"
   ]
  },
  {
   "cell_type": "code",
   "execution_count": 173,
   "id": "e6051ccc-26ef-4c67-9b0d-37d4780bc4af",
   "metadata": {},
   "outputs": [
    {
     "name": "stdout",
     "output_type": "stream",
     "text": [
      "origin          Plant1\n",
      "destination    Region1\n",
      "value            150.0\n",
      "Name: 0, dtype: object\n",
      "origin          Plant2\n",
      "destination    Region1\n",
      "value            100.0\n",
      "Name: 1, dtype: object\n",
      "origin          Plant3\n",
      "destination    Region1\n",
      "value            200.0\n",
      "Name: 2, dtype: object\n",
      "origin          Plant1\n",
      "destination    Region2\n",
      "value              0.0\n",
      "Name: 3, dtype: object\n",
      "origin          Plant2\n",
      "destination    Region2\n",
      "value            200.0\n",
      "Name: 4, dtype: object\n",
      "origin          Plant3\n",
      "destination    Region2\n",
      "value              0.0\n",
      "Name: 5, dtype: object\n",
      "origin          Plant1\n",
      "destination    Region3\n",
      "value              0.0\n",
      "Name: 6, dtype: object\n",
      "origin          Plant2\n",
      "destination    Region3\n",
      "value              0.0\n",
      "Name: 7, dtype: object\n",
      "origin          Plant3\n",
      "destination    Region3\n",
      "value            300.0\n",
      "Name: 8, dtype: object\n",
      "origin          Plant1\n",
      "destination    Region4\n",
      "value            300.0\n",
      "Name: 9, dtype: object\n",
      "origin          Plant2\n",
      "destination    Region4\n",
      "value              0.0\n",
      "Name: 10, dtype: object\n",
      "origin          Plant3\n",
      "destination    Region4\n",
      "value              0.0\n",
      "Name: 11, dtype: object\n"
     ]
    }
   ],
   "source": [
    "for i,r in result.rename_axis('origin').reset_index().melt(id_vars='origin', var_name='destination').iterrows():\n",
    "    print(r)"
   ]
  },
  {
   "cell_type": "code",
   "execution_count": 170,
   "id": "e27639b2-273c-451a-b423-9c73dfd4e5ff",
   "metadata": {},
   "outputs": [
    {
     "ename": "ValueError",
     "evalue": "not enough values to unpack (expected 3, got 2)",
     "output_type": "error",
     "traceback": [
      "\u001b[1;31m---------------------------------------------------------------------------\u001b[0m",
      "\u001b[1;31mValueError\u001b[0m                                Traceback (most recent call last)",
      "Input \u001b[1;32mIn [170]\u001b[0m, in \u001b[0;36m<cell line: 1>\u001b[1;34m()\u001b[0m\n\u001b[1;32m----> 1\u001b[0m [ (a,b,c) \u001b[38;5;28;01mfor\u001b[39;00m a,b,c \u001b[38;5;129;01min\u001b[39;00m result\u001b[38;5;241m.\u001b[39mrename_axis(\u001b[38;5;124m'\u001b[39m\u001b[38;5;124morigin\u001b[39m\u001b[38;5;124m'\u001b[39m)\u001b[38;5;241m.\u001b[39mreset_index()\u001b[38;5;241m.\u001b[39mmelt(id_vars\u001b[38;5;241m=\u001b[39m\u001b[38;5;124m'\u001b[39m\u001b[38;5;124morigin\u001b[39m\u001b[38;5;124m'\u001b[39m, var_name\u001b[38;5;241m=\u001b[39m\u001b[38;5;124m'\u001b[39m\u001b[38;5;124mdestination\u001b[39m\u001b[38;5;124m'\u001b[39m)\u001b[38;5;241m.\u001b[39miterrows() ]\n",
      "Input \u001b[1;32mIn [170]\u001b[0m, in \u001b[0;36m<listcomp>\u001b[1;34m(.0)\u001b[0m\n\u001b[1;32m----> 1\u001b[0m [ (a,b,c) \u001b[38;5;28;01mfor\u001b[39;00m a,b,c \u001b[38;5;129;01min\u001b[39;00m result\u001b[38;5;241m.\u001b[39mrename_axis(\u001b[38;5;124m'\u001b[39m\u001b[38;5;124morigin\u001b[39m\u001b[38;5;124m'\u001b[39m)\u001b[38;5;241m.\u001b[39mreset_index()\u001b[38;5;241m.\u001b[39mmelt(id_vars\u001b[38;5;241m=\u001b[39m\u001b[38;5;124m'\u001b[39m\u001b[38;5;124morigin\u001b[39m\u001b[38;5;124m'\u001b[39m, var_name\u001b[38;5;241m=\u001b[39m\u001b[38;5;124m'\u001b[39m\u001b[38;5;124mdestination\u001b[39m\u001b[38;5;124m'\u001b[39m)\u001b[38;5;241m.\u001b[39miterrows() ]\n",
      "\u001b[1;31mValueError\u001b[0m: not enough values to unpack (expected 3, got 2)"
     ]
    }
   ],
   "source": [
    "[ (a,b,c) for a,b,c in result.rename_axis('origin').reset_index().melt(id_vars='origin', var_name='destination').iterrows() ]"
   ]
  },
  {
   "cell_type": "code",
   "execution_count": null,
   "id": "1ba7046b-1aff-4843-958f-33c0a0984dc6",
   "metadata": {},
   "outputs": [],
   "source": [
    "import networkx as nx\n",
    "import matplotlib.pyplot as plt\n"
   ]
  },
  {
   "cell_type": "code",
   "execution_count": null,
   "id": "e32a29bc-2b56-4c04-8563-ec34b4ca2836",
   "metadata": {},
   "outputs": [],
   "source": [
    "nx.draw"
   ]
  },
  {
   "cell_type": "code",
   "execution_count": null,
   "id": "fb783612-7a5c-4832-a7ac-afba2abec759",
   "metadata": {},
   "outputs": [],
   "source": []
  },
  {
   "cell_type": "code",
   "execution_count": null,
   "id": "03963cb9-610d-4327-91ac-cd824c476d30",
   "metadata": {},
   "outputs": [],
   "source": []
  },
  {
   "cell_type": "code",
   "execution_count": null,
   "id": "0b55a938-ac8f-42f9-937b-3fa13baf74f9",
   "metadata": {},
   "outputs": [],
   "source": [
    "\n",
    "\n",
    "model = LpProblem('Transport', LpMinimize)\n",
    "\n",
    "# objective functions\n",
    "model += lpSum([])\n",
    "\n",
    "model"
   ]
  },
  {
   "cell_type": "code",
   "execution_count": 10,
   "id": "d42dc594-59c1-4f94-9eea-b67a2d1f04f3",
   "metadata": {},
   "outputs": [
    {
     "data": {
      "text/html": [
       "<div>\n",
       "<style scoped>\n",
       "    .dataframe tbody tr th:only-of-type {\n",
       "        vertical-align: middle;\n",
       "    }\n",
       "\n",
       "    .dataframe tbody tr th {\n",
       "        vertical-align: top;\n",
       "    }\n",
       "\n",
       "    .dataframe thead th {\n",
       "        text-align: right;\n",
       "    }\n",
       "</style>\n",
       "<table border=\"1\" class=\"dataframe\">\n",
       "  <thead>\n",
       "    <tr style=\"text-align: right;\">\n",
       "      <th></th>\n",
       "      <th>Origin</th>\n",
       "      <th>Destination</th>\n",
       "      <th>Unit Cost</th>\n",
       "    </tr>\n",
       "  </thead>\n",
       "  <tbody>\n",
       "    <tr>\n",
       "      <th>0</th>\n",
       "      <td>1</td>\n",
       "      <td>2</td>\n",
       "      <td>5.0</td>\n",
       "    </tr>\n",
       "    <tr>\n",
       "      <th>1</th>\n",
       "      <td>1</td>\n",
       "      <td>3</td>\n",
       "      <td>3.0</td>\n",
       "    </tr>\n",
       "    <tr>\n",
       "      <th>2</th>\n",
       "      <td>1</td>\n",
       "      <td>4</td>\n",
       "      <td>5.0</td>\n",
       "    </tr>\n",
       "    <tr>\n",
       "      <th>3</th>\n",
       "      <td>1</td>\n",
       "      <td>5</td>\n",
       "      <td>5.0</td>\n",
       "    </tr>\n",
       "    <tr>\n",
       "      <th>4</th>\n",
       "      <td>1</td>\n",
       "      <td>6</td>\n",
       "      <td>20.0</td>\n",
       "    </tr>\n",
       "    <tr>\n",
       "      <th>5</th>\n",
       "      <td>1</td>\n",
       "      <td>7</td>\n",
       "      <td>20.0</td>\n",
       "    </tr>\n",
       "    <tr>\n",
       "      <th>6</th>\n",
       "      <td>2</td>\n",
       "      <td>1</td>\n",
       "      <td>9.0</td>\n",
       "    </tr>\n",
       "    <tr>\n",
       "      <th>7</th>\n",
       "      <td>2</td>\n",
       "      <td>3</td>\n",
       "      <td>9.0</td>\n",
       "    </tr>\n",
       "    <tr>\n",
       "      <th>8</th>\n",
       "      <td>2</td>\n",
       "      <td>4</td>\n",
       "      <td>1.0</td>\n",
       "    </tr>\n",
       "    <tr>\n",
       "      <th>9</th>\n",
       "      <td>2</td>\n",
       "      <td>5</td>\n",
       "      <td>1.0</td>\n",
       "    </tr>\n",
       "    <tr>\n",
       "      <th>10</th>\n",
       "      <td>2</td>\n",
       "      <td>6</td>\n",
       "      <td>8.0</td>\n",
       "    </tr>\n",
       "    <tr>\n",
       "      <th>11</th>\n",
       "      <td>2</td>\n",
       "      <td>7</td>\n",
       "      <td>15.0</td>\n",
       "    </tr>\n",
       "    <tr>\n",
       "      <th>12</th>\n",
       "      <td>3</td>\n",
       "      <td>1</td>\n",
       "      <td>0.4</td>\n",
       "    </tr>\n",
       "    <tr>\n",
       "      <th>13</th>\n",
       "      <td>3</td>\n",
       "      <td>2</td>\n",
       "      <td>8.0</td>\n",
       "    </tr>\n",
       "    <tr>\n",
       "      <th>14</th>\n",
       "      <td>3</td>\n",
       "      <td>4</td>\n",
       "      <td>1.0</td>\n",
       "    </tr>\n",
       "    <tr>\n",
       "      <th>15</th>\n",
       "      <td>3</td>\n",
       "      <td>5</td>\n",
       "      <td>0.5</td>\n",
       "    </tr>\n",
       "    <tr>\n",
       "      <th>16</th>\n",
       "      <td>3</td>\n",
       "      <td>6</td>\n",
       "      <td>10.0</td>\n",
       "    </tr>\n",
       "    <tr>\n",
       "      <th>17</th>\n",
       "      <td>3</td>\n",
       "      <td>7</td>\n",
       "      <td>12.0</td>\n",
       "    </tr>\n",
       "    <tr>\n",
       "      <th>18</th>\n",
       "      <td>4</td>\n",
       "      <td>5</td>\n",
       "      <td>1.2</td>\n",
       "    </tr>\n",
       "    <tr>\n",
       "      <th>19</th>\n",
       "      <td>4</td>\n",
       "      <td>6</td>\n",
       "      <td>2.0</td>\n",
       "    </tr>\n",
       "    <tr>\n",
       "      <th>20</th>\n",
       "      <td>4</td>\n",
       "      <td>7</td>\n",
       "      <td>12.0</td>\n",
       "    </tr>\n",
       "    <tr>\n",
       "      <th>21</th>\n",
       "      <td>5</td>\n",
       "      <td>4</td>\n",
       "      <td>0.8</td>\n",
       "    </tr>\n",
       "    <tr>\n",
       "      <th>22</th>\n",
       "      <td>5</td>\n",
       "      <td>6</td>\n",
       "      <td>2.0</td>\n",
       "    </tr>\n",
       "    <tr>\n",
       "      <th>23</th>\n",
       "      <td>5</td>\n",
       "      <td>7</td>\n",
       "      <td>12.0</td>\n",
       "    </tr>\n",
       "    <tr>\n",
       "      <th>24</th>\n",
       "      <td>6</td>\n",
       "      <td>7</td>\n",
       "      <td>1.0</td>\n",
       "    </tr>\n",
       "    <tr>\n",
       "      <th>25</th>\n",
       "      <td>7</td>\n",
       "      <td>6</td>\n",
       "      <td>7.0</td>\n",
       "    </tr>\n",
       "  </tbody>\n",
       "</table>\n",
       "</div>"
      ],
      "text/plain": [
       "    Origin  Destination  Unit Cost\n",
       "0        1            2        5.0\n",
       "1        1            3        3.0\n",
       "2        1            4        5.0\n",
       "3        1            5        5.0\n",
       "4        1            6       20.0\n",
       "5        1            7       20.0\n",
       "6        2            1        9.0\n",
       "7        2            3        9.0\n",
       "8        2            4        1.0\n",
       "9        2            5        1.0\n",
       "10       2            6        8.0\n",
       "11       2            7       15.0\n",
       "12       3            1        0.4\n",
       "13       3            2        8.0\n",
       "14       3            4        1.0\n",
       "15       3            5        0.5\n",
       "16       3            6       10.0\n",
       "17       3            7       12.0\n",
       "18       4            5        1.2\n",
       "19       4            6        2.0\n",
       "20       4            7       12.0\n",
       "21       5            4        0.8\n",
       "22       5            6        2.0\n",
       "23       5            7       12.0\n",
       "24       6            7        1.0\n",
       "25       7            6        7.0"
      ]
     },
     "execution_count": 10,
     "metadata": {},
     "output_type": "execute_result"
    }
   ],
   "source": [
    "df = pd.read_csv('RedBrandLogistics.csv')\n",
    "df"
   ]
  },
  {
   "cell_type": "code",
   "execution_count": null,
   "id": "7308d27b-216f-4261-9fa4-c22504783c45",
   "metadata": {},
   "outputs": [],
   "source": [
    "for "
   ]
  }
 ],
 "metadata": {
  "kernelspec": {
   "display_name": "Python 3 (ipykernel)",
   "language": "python",
   "name": "python3"
  },
  "language_info": {
   "codemirror_mode": {
    "name": "ipython",
    "version": 3
   },
   "file_extension": ".py",
   "mimetype": "text/x-python",
   "name": "python",
   "nbconvert_exporter": "python",
   "pygments_lexer": "ipython3",
   "version": "3.9.13"
  }
 },
 "nbformat": 4,
 "nbformat_minor": 5
}
